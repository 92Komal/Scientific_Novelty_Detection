{
 "cells": [
  {
   "cell_type": "code",
   "execution_count": 1,
   "metadata": {},
   "outputs": [],
   "source": [
    "import pandas as pd\n",
    "import numpy as np\n",
    "import matplotlib.pyplot as plt"
   ]
  },
  {
   "cell_type": "code",
   "execution_count": 2,
   "metadata": {},
   "outputs": [
    {
     "name": "stdout",
     "output_type": "stream",
     "text": [
      "KL Divergence Results input csv fileJCDL_Results/KL_Score.csv\n"
     ]
    },
    {
     "data": {
      "text/html": [
       "<div>\n",
       "<style scoped>\n",
       "    .dataframe tbody tr th:only-of-type {\n",
       "        vertical-align: middle;\n",
       "    }\n",
       "\n",
       "    .dataframe tbody tr th {\n",
       "        vertical-align: top;\n",
       "    }\n",
       "\n",
       "    .dataframe thead th {\n",
       "        text-align: right;\n",
       "    }\n",
       "</style>\n",
       "<table border=\"1\" class=\"dataframe\">\n",
       "  <thead>\n",
       "    <tr style=\"text-align: right;\">\n",
       "      <th></th>\n",
       "      <th>Precision (Non-Novel)</th>\n",
       "      <th>Recall (Non-Novel)</th>\n",
       "      <th>F1 Score (Non-Novel)</th>\n",
       "      <th>Precision (Novel)</th>\n",
       "      <th>Recall (Novel)</th>\n",
       "      <th>F1 Score (Novel)</th>\n",
       "      <th>F1 Score (Average)</th>\n",
       "      <th>Accuracy</th>\n",
       "    </tr>\n",
       "  </thead>\n",
       "  <tbody>\n",
       "    <tr>\n",
       "      <th>MT</th>\n",
       "      <td>0.04</td>\n",
       "      <td>0.50</td>\n",
       "      <td>0.07</td>\n",
       "      <td>0.96</td>\n",
       "      <td>0.50</td>\n",
       "      <td>0.66</td>\n",
       "      <td>0.365</td>\n",
       "      <td>0.50</td>\n",
       "    </tr>\n",
       "    <tr>\n",
       "      <th>QA</th>\n",
       "      <td>0.17</td>\n",
       "      <td>0.45</td>\n",
       "      <td>0.24</td>\n",
       "      <td>0.80</td>\n",
       "      <td>0.49</td>\n",
       "      <td>0.61</td>\n",
       "      <td>0.425</td>\n",
       "      <td>0.48</td>\n",
       "    </tr>\n",
       "    <tr>\n",
       "      <th>SA</th>\n",
       "      <td>0.16</td>\n",
       "      <td>0.44</td>\n",
       "      <td>0.24</td>\n",
       "      <td>0.79</td>\n",
       "      <td>0.49</td>\n",
       "      <td>0.60</td>\n",
       "      <td>0.420</td>\n",
       "      <td>0.48</td>\n",
       "    </tr>\n",
       "    <tr>\n",
       "      <th>Sum</th>\n",
       "      <td>0.24</td>\n",
       "      <td>0.48</td>\n",
       "      <td>0.32</td>\n",
       "      <td>0.75</td>\n",
       "      <td>0.50</td>\n",
       "      <td>0.60</td>\n",
       "      <td>0.460</td>\n",
       "      <td>0.50</td>\n",
       "    </tr>\n",
       "    <tr>\n",
       "      <th>Dia</th>\n",
       "      <td>0.00</td>\n",
       "      <td>0.00</td>\n",
       "      <td>0.00</td>\n",
       "      <td>0.74</td>\n",
       "      <td>0.43</td>\n",
       "      <td>0.54</td>\n",
       "      <td>0.270</td>\n",
       "      <td>0.37</td>\n",
       "    </tr>\n",
       "  </tbody>\n",
       "</table>\n",
       "</div>"
      ],
      "text/plain": [
       "     Precision (Non-Novel)  Recall (Non-Novel)  F1 Score (Non-Novel)  \\\n",
       "MT                    0.04                0.50                  0.07   \n",
       "QA                    0.17                0.45                  0.24   \n",
       "SA                    0.16                0.44                  0.24   \n",
       "Sum                   0.24                0.48                  0.32   \n",
       "Dia                   0.00                0.00                  0.00   \n",
       "\n",
       "     Precision (Novel)  Recall (Novel)  F1 Score (Novel)  F1 Score (Average)  \\\n",
       "MT                0.96            0.50              0.66               0.365   \n",
       "QA                0.80            0.49              0.61               0.425   \n",
       "SA                0.79            0.49              0.60               0.420   \n",
       "Sum               0.75            0.50              0.60               0.460   \n",
       "Dia               0.74            0.43              0.54               0.270   \n",
       "\n",
       "     Accuracy  \n",
       "MT       0.50  \n",
       "QA       0.48  \n",
       "SA       0.48  \n",
       "Sum      0.50  \n",
       "Dia      0.37  "
      ]
     },
     "execution_count": 2,
     "metadata": {},
     "output_type": "execute_result"
    }
   ],
   "source": [
    "df_KL = pd.read_csv(input(\"KL Divergence Results input csv file\"), index_col = 0)\n",
    "df_KL = df_KL.T\n",
    "df_KL"
   ]
  },
  {
   "cell_type": "code",
   "execution_count": 3,
   "metadata": {},
   "outputs": [
    {
     "name": "stdout",
     "output_type": "stream",
     "text": [
      "Variance Results input csv fileJCDL_Results/Variance.csv\n"
     ]
    },
    {
     "data": {
      "text/html": [
       "<div>\n",
       "<style scoped>\n",
       "    .dataframe tbody tr th:only-of-type {\n",
       "        vertical-align: middle;\n",
       "    }\n",
       "\n",
       "    .dataframe tbody tr th {\n",
       "        vertical-align: top;\n",
       "    }\n",
       "\n",
       "    .dataframe thead th {\n",
       "        text-align: right;\n",
       "    }\n",
       "</style>\n",
       "<table border=\"1\" class=\"dataframe\">\n",
       "  <thead>\n",
       "    <tr style=\"text-align: right;\">\n",
       "      <th></th>\n",
       "      <th>Precision (Non-Novel)</th>\n",
       "      <th>Recall (Non-Novel)</th>\n",
       "      <th>F1 Score (Non-Novel)</th>\n",
       "      <th>Precision (Novel)</th>\n",
       "      <th>Recall (Novel)</th>\n",
       "      <th>F1 Score (Novel)</th>\n",
       "      <th>F1 Score (Average)</th>\n",
       "      <th>Accuracy</th>\n",
       "    </tr>\n",
       "  </thead>\n",
       "  <tbody>\n",
       "    <tr>\n",
       "      <th>QA</th>\n",
       "      <td>0.09</td>\n",
       "      <td>0.25</td>\n",
       "      <td>0.14</td>\n",
       "      <td>0.72</td>\n",
       "      <td>0.44</td>\n",
       "      <td>0.55</td>\n",
       "      <td>0.345</td>\n",
       "      <td>0.41</td>\n",
       "    </tr>\n",
       "    <tr>\n",
       "      <th>SA</th>\n",
       "      <td>0.14</td>\n",
       "      <td>0.38</td>\n",
       "      <td>0.20</td>\n",
       "      <td>0.77</td>\n",
       "      <td>0.47</td>\n",
       "      <td>0.58</td>\n",
       "      <td>0.390</td>\n",
       "      <td>0.45</td>\n",
       "    </tr>\n",
       "    <tr>\n",
       "      <th>Sum</th>\n",
       "      <td>0.12</td>\n",
       "      <td>0.24</td>\n",
       "      <td>0.16</td>\n",
       "      <td>0.63</td>\n",
       "      <td>0.42</td>\n",
       "      <td>0.51</td>\n",
       "      <td>0.335</td>\n",
       "      <td>0.38</td>\n",
       "    </tr>\n",
       "    <tr>\n",
       "      <th>Dia</th>\n",
       "      <td>0.07</td>\n",
       "      <td>0.27</td>\n",
       "      <td>0.12</td>\n",
       "      <td>0.81</td>\n",
       "      <td>0.47</td>\n",
       "      <td>0.60</td>\n",
       "      <td>0.360</td>\n",
       "      <td>0.45</td>\n",
       "    </tr>\n",
       "    <tr>\n",
       "      <th>MT</th>\n",
       "      <td>0.01</td>\n",
       "      <td>0.08</td>\n",
       "      <td>0.01</td>\n",
       "      <td>0.93</td>\n",
       "      <td>0.49</td>\n",
       "      <td>0.64</td>\n",
       "      <td>0.325</td>\n",
       "      <td>0.47</td>\n",
       "    </tr>\n",
       "  </tbody>\n",
       "</table>\n",
       "</div>"
      ],
      "text/plain": [
       "     Precision (Non-Novel)  Recall (Non-Novel)  F1 Score (Non-Novel)  \\\n",
       "QA                    0.09                0.25                  0.14   \n",
       "SA                    0.14                0.38                  0.20   \n",
       "Sum                   0.12                0.24                  0.16   \n",
       "Dia                   0.07                0.27                  0.12   \n",
       "MT                    0.01                0.08                  0.01   \n",
       "\n",
       "     Precision (Novel)  Recall (Novel)  F1 Score (Novel)  F1 Score (Average)  \\\n",
       "QA                0.72            0.44              0.55               0.345   \n",
       "SA                0.77            0.47              0.58               0.390   \n",
       "Sum               0.63            0.42              0.51               0.335   \n",
       "Dia               0.81            0.47              0.60               0.360   \n",
       "MT                0.93            0.49              0.64               0.325   \n",
       "\n",
       "     Accuracy  \n",
       "QA       0.41  \n",
       "SA       0.45  \n",
       "Sum      0.38  \n",
       "Dia      0.45  \n",
       "MT       0.47  "
      ]
     },
     "execution_count": 3,
     "metadata": {},
     "output_type": "execute_result"
    }
   ],
   "source": [
    "df_Var = pd.read_csv(input(\"Variance Results input csv file\"), index_col = 0)\n",
    "df_Var = df_Var.T\n",
    "df_Var"
   ]
  },
  {
   "cell_type": "code",
   "execution_count": 4,
   "metadata": {},
   "outputs": [],
   "source": [
    "Category = df_KL.index.to_numpy()[0:5]\n",
    "KL_Acc = df_KL.Accuracy.to_numpy()[0:5]\n",
    "Var_Acc = df_Var.Accuracy.to_numpy()[0:5]"
   ]
  },
  {
   "cell_type": "code",
   "execution_count": 5,
   "metadata": {},
   "outputs": [
    {
     "name": "stdout",
     "output_type": "stream",
     "text": [
      "[0 1 2 3 4]\n"
     ]
    },
    {
     "data": {
      "image/png": "[encoded data removed]",
      "text/plain": [
       "<Figure size 648x432 with 1 Axes>"
      ]
     },
     "metadata": {
      "needs_background": "light"
     },
     "output_type": "display_data"
    }
   ],
   "source": [
    "fig = plt.figure(figsize = (9, 6))\n",
    "c = ['red', 'blue']\n",
    "X_axis = np.arange(len(Category))\n",
    "print(X_axis)\n",
    "plt.bar(X_axis - 0.3, KL_Acc, 0.3, label = 'KL Divergence')\n",
    "plt.bar(X_axis, Var_Acc, 0.3, label = 'Variance')\n",
    "plt.xticks(X_axis-0.15, Category)\n",
    "plt.xlabel(\"Domains\")\n",
    "plt.ylabel(\"Accuracy\")\n",
    "plt.title(\"Accuracy with KL Divergence and Variance\")\n",
    "plt.legend()\n",
    "plt.show()"
   ]
  },
  {
   "cell_type": "code",
   "execution_count": 6,
   "metadata": {},
   "outputs": [],
   "source": [
    "KL0 = df_KL[\"F1 Score (Non-Novel)\"].to_numpy()[0:5]\n",
    "KL1 = df_KL[\"F1 Score (Novel)\"].to_numpy()[0:5]"
   ]
  },
  {
   "cell_type": "code",
   "execution_count": 7,
   "metadata": {},
   "outputs": [
    {
     "name": "stdout",
     "output_type": "stream",
     "text": [
      "[0 1 2 3 4]\n"
     ]
    },
    {
     "data": {
      "image/png": "[encoded data removed]",
      "text/plain": [
       "<Figure size 648x432 with 1 Axes>"
      ]
     },
     "metadata": {
      "needs_background": "light"
     },
     "output_type": "display_data"
    }
   ],
   "source": [
    "fig = plt.figure(figsize = (9, 6))\n",
    "c = ['red', 'blue']\n",
    "X_axis = np.arange(len(Category))\n",
    "print(X_axis)\n",
    "plt.bar(X_axis - 0.3, KL0, 0.3, label = 'Non-Novel')\n",
    "plt.bar(X_axis, KL1, 0.3, label = 'Novel')\n",
    "plt.xticks(X_axis-0.15, Category)\n",
    "plt.xlabel(\"Domains\")\n",
    "plt.ylabel(\"F1 Score\")\n",
    "plt.title(\"KL Divergence F1 Score\")\n",
    "plt.legend()\n",
    "plt.show()"
   ]
  },
  {
   "cell_type": "code",
   "execution_count": 8,
   "metadata": {},
   "outputs": [],
   "source": [
    "Var0 = df_Var[\"F1 Score (Non-Novel)\"].to_numpy()[0:5]\n",
    "Var1 = df_Var[\"F1 Score (Novel)\"].to_numpy()[0:5]"
   ]
  },
  {
   "cell_type": "code",
   "execution_count": 9,
   "metadata": {},
   "outputs": [
    {
     "name": "stdout",
     "output_type": "stream",
     "text": [
      "[0 1 2 3 4]\n"
     ]
    },
    {
     "data": {
      "image/png": "[encoded data removed]",
      "text/plain": [
       "<Figure size 648x432 with 1 Axes>"
      ]
     },
     "metadata": {
      "needs_background": "light"
     },
     "output_type": "display_data"
    }
   ],
   "source": [
    "fig = plt.figure(figsize = (9, 6))\n",
    "c = ['red', 'blue']\n",
    "X_axis = np.arange(len(Category))\n",
    "print(X_axis)\n",
    "plt.bar(X_axis - 0.3, Var0, 0.3, label = 'Non-Novel')\n",
    "plt.bar(X_axis, Var1, 0.3, label = 'Novel')\n",
    "plt.xticks(X_axis-0.15, Category)\n",
    "plt.xlabel(\"Domains\")\n",
    "plt.ylabel(\"F1 Score\")\n",
    "plt.title(\"Variance F1 Score\")\n",
    "plt.legend()\n",
    "plt.show()"
   ]
  }
 ],
 "metadata": {
  "kernelspec": {
   "display_name": "Python 3",
   "language": "python",
   "name": "python3"
  },
  "language_info": {
   "codemirror_mode": {
    "name": "ipython",
    "version": 3
   },
   "file_extension": ".py",
   "mimetype": "text/x-python",
   "name": "python",
   "nbconvert_exporter": "python",
   "pygments_lexer": "ipython3",
   "version": "3.8.5"
  }
 },
 "nbformat": 4,
 "nbformat_minor": 4
}
