{
 "cells": [
  {
   "cell_type": "code",
   "execution_count": 1,
   "metadata": {},
   "outputs": [],
   "source": [
    "import pandas as pd\n",
    "import numpy as np"
   ]
  },
  {
   "cell_type": "code",
   "execution_count": 2,
   "metadata": {},
   "outputs": [],
   "source": [
    "df_novel = pd.read_csv(\"JCDL_Results/MT_Novel_Results.csv\")\n",
    "df_novel = df_novel[0:12]\n",
    "df_novel['label'] = 1"
   ]
  },
  {
   "cell_type": "code",
   "execution_count": 3,
   "metadata": {},
   "outputs": [],
   "source": [
    "df_non_novel = pd.read_csv(\"JCDL_Results/MT_Non_Novel_Results.csv\")\n",
    "df_non_novel['label'] = 0"
   ]
  },
  {
   "cell_type": "code",
   "execution_count": 4,
   "metadata": {},
   "outputs": [
    {
     "data": {
      "text/html": [
       "<div>\n",
       "<style scoped>\n",
       "    .dataframe tbody tr th:only-of-type {\n",
       "        vertical-align: middle;\n",
       "    }\n",
       "\n",
       "    .dataframe tbody tr th {\n",
       "        vertical-align: top;\n",
       "    }\n",
       "\n",
       "    .dataframe thead th {\n",
       "        text-align: right;\n",
       "    }\n",
       "</style>\n",
       "<table border=\"1\" class=\"dataframe\">\n",
       "  <thead>\n",
       "    <tr style=\"text-align: right;\">\n",
       "      <th></th>\n",
       "      <th>Unnamed: 0</th>\n",
       "      <th>paper_ID</th>\n",
       "      <th>KL_score</th>\n",
       "      <th>variance</th>\n",
       "      <th>label</th>\n",
       "    </tr>\n",
       "  </thead>\n",
       "  <tbody>\n",
       "    <tr>\n",
       "      <th>0</th>\n",
       "      <td>0.0</td>\n",
       "      <td>0</td>\n",
       "      <td>-2.044080</td>\n",
       "      <td>23.585012</td>\n",
       "      <td>1</td>\n",
       "    </tr>\n",
       "    <tr>\n",
       "      <th>1</th>\n",
       "      <td>1.0</td>\n",
       "      <td>1</td>\n",
       "      <td>0.000000</td>\n",
       "      <td>23.565742</td>\n",
       "      <td>1</td>\n",
       "    </tr>\n",
       "    <tr>\n",
       "      <th>2</th>\n",
       "      <td>2.0</td>\n",
       "      <td>2</td>\n",
       "      <td>-2.001332</td>\n",
       "      <td>23.563340</td>\n",
       "      <td>1</td>\n",
       "    </tr>\n",
       "    <tr>\n",
       "      <th>3</th>\n",
       "      <td>0.0</td>\n",
       "      <td>3</td>\n",
       "      <td>-2.005252</td>\n",
       "      <td>23.584748</td>\n",
       "      <td>1</td>\n",
       "    </tr>\n",
       "    <tr>\n",
       "      <th>4</th>\n",
       "      <td>1.0</td>\n",
       "      <td>4</td>\n",
       "      <td>-1.419339</td>\n",
       "      <td>23.580969</td>\n",
       "      <td>1</td>\n",
       "    </tr>\n",
       "    <tr>\n",
       "      <th>5</th>\n",
       "      <td>2.0</td>\n",
       "      <td>5</td>\n",
       "      <td>-2.495060</td>\n",
       "      <td>23.563568</td>\n",
       "      <td>1</td>\n",
       "    </tr>\n",
       "    <tr>\n",
       "      <th>6</th>\n",
       "      <td>0.0</td>\n",
       "      <td>6</td>\n",
       "      <td>-2.250770</td>\n",
       "      <td>23.564844</td>\n",
       "      <td>1</td>\n",
       "    </tr>\n",
       "    <tr>\n",
       "      <th>7</th>\n",
       "      <td>1.0</td>\n",
       "      <td>7</td>\n",
       "      <td>-1.222609</td>\n",
       "      <td>23.563026</td>\n",
       "      <td>1</td>\n",
       "    </tr>\n",
       "    <tr>\n",
       "      <th>8</th>\n",
       "      <td>2.0</td>\n",
       "      <td>8</td>\n",
       "      <td>-1.499235</td>\n",
       "      <td>23.565990</td>\n",
       "      <td>1</td>\n",
       "    </tr>\n",
       "    <tr>\n",
       "      <th>9</th>\n",
       "      <td>0.0</td>\n",
       "      <td>9</td>\n",
       "      <td>-2.597731</td>\n",
       "      <td>23.579713</td>\n",
       "      <td>1</td>\n",
       "    </tr>\n",
       "    <tr>\n",
       "      <th>10</th>\n",
       "      <td>1.0</td>\n",
       "      <td>10</td>\n",
       "      <td>-1.940229</td>\n",
       "      <td>23.601823</td>\n",
       "      <td>1</td>\n",
       "    </tr>\n",
       "    <tr>\n",
       "      <th>11</th>\n",
       "      <td>2.0</td>\n",
       "      <td>11</td>\n",
       "      <td>-1.741570</td>\n",
       "      <td>23.578750</td>\n",
       "      <td>1</td>\n",
       "    </tr>\n",
       "    <tr>\n",
       "      <th>0</th>\n",
       "      <td>NaN</td>\n",
       "      <td>0</td>\n",
       "      <td>-1.892385</td>\n",
       "      <td>23.561774</td>\n",
       "      <td>0</td>\n",
       "    </tr>\n",
       "    <tr>\n",
       "      <th>1</th>\n",
       "      <td>NaN</td>\n",
       "      <td>1</td>\n",
       "      <td>-1.563344</td>\n",
       "      <td>23.627951</td>\n",
       "      <td>0</td>\n",
       "    </tr>\n",
       "    <tr>\n",
       "      <th>2</th>\n",
       "      <td>NaN</td>\n",
       "      <td>2</td>\n",
       "      <td>-2.143711</td>\n",
       "      <td>23.671112</td>\n",
       "      <td>0</td>\n",
       "    </tr>\n",
       "    <tr>\n",
       "      <th>3</th>\n",
       "      <td>NaN</td>\n",
       "      <td>3</td>\n",
       "      <td>-1.475473</td>\n",
       "      <td>23.610354</td>\n",
       "      <td>0</td>\n",
       "    </tr>\n",
       "    <tr>\n",
       "      <th>4</th>\n",
       "      <td>NaN</td>\n",
       "      <td>4</td>\n",
       "      <td>-1.490127</td>\n",
       "      <td>23.631532</td>\n",
       "      <td>0</td>\n",
       "    </tr>\n",
       "    <tr>\n",
       "      <th>5</th>\n",
       "      <td>NaN</td>\n",
       "      <td>5</td>\n",
       "      <td>-1.481743</td>\n",
       "      <td>23.676270</td>\n",
       "      <td>0</td>\n",
       "    </tr>\n",
       "    <tr>\n",
       "      <th>6</th>\n",
       "      <td>NaN</td>\n",
       "      <td>6</td>\n",
       "      <td>-1.699821</td>\n",
       "      <td>23.623268</td>\n",
       "      <td>0</td>\n",
       "    </tr>\n",
       "    <tr>\n",
       "      <th>7</th>\n",
       "      <td>NaN</td>\n",
       "      <td>7</td>\n",
       "      <td>-1.710839</td>\n",
       "      <td>23.606590</td>\n",
       "      <td>0</td>\n",
       "    </tr>\n",
       "    <tr>\n",
       "      <th>8</th>\n",
       "      <td>NaN</td>\n",
       "      <td>8</td>\n",
       "      <td>-1.873619</td>\n",
       "      <td>23.624797</td>\n",
       "      <td>0</td>\n",
       "    </tr>\n",
       "    <tr>\n",
       "      <th>9</th>\n",
       "      <td>NaN</td>\n",
       "      <td>9</td>\n",
       "      <td>-1.939600</td>\n",
       "      <td>23.588359</td>\n",
       "      <td>0</td>\n",
       "    </tr>\n",
       "    <tr>\n",
       "      <th>10</th>\n",
       "      <td>NaN</td>\n",
       "      <td>10</td>\n",
       "      <td>-1.937181</td>\n",
       "      <td>23.636578</td>\n",
       "      <td>0</td>\n",
       "    </tr>\n",
       "    <tr>\n",
       "      <th>11</th>\n",
       "      <td>NaN</td>\n",
       "      <td>11</td>\n",
       "      <td>-1.931201</td>\n",
       "      <td>23.592693</td>\n",
       "      <td>0</td>\n",
       "    </tr>\n",
       "  </tbody>\n",
       "</table>\n",
       "</div>"
      ],
      "text/plain": [
       "    Unnamed: 0  paper_ID  KL_score   variance  label\n",
       "0          0.0         0 -2.044080  23.585012      1\n",
       "1          1.0         1  0.000000  23.565742      1\n",
       "2          2.0         2 -2.001332  23.563340      1\n",
       "3          0.0         3 -2.005252  23.584748      1\n",
       "4          1.0         4 -1.419339  23.580969      1\n",
       "5          2.0         5 -2.495060  23.563568      1\n",
       "6          0.0         6 -2.250770  23.564844      1\n",
       "7          1.0         7 -1.222609  23.563026      1\n",
       "8          2.0         8 -1.499235  23.565990      1\n",
       "9          0.0         9 -2.597731  23.579713      1\n",
       "10         1.0        10 -1.940229  23.601823      1\n",
       "11         2.0        11 -1.741570  23.578750      1\n",
       "0          NaN         0 -1.892385  23.561774      0\n",
       "1          NaN         1 -1.563344  23.627951      0\n",
       "2          NaN         2 -2.143711  23.671112      0\n",
       "3          NaN         3 -1.475473  23.610354      0\n",
       "4          NaN         4 -1.490127  23.631532      0\n",
       "5          NaN         5 -1.481743  23.676270      0\n",
       "6          NaN         6 -1.699821  23.623268      0\n",
       "7          NaN         7 -1.710839  23.606590      0\n",
       "8          NaN         8 -1.873619  23.624797      0\n",
       "9          NaN         9 -1.939600  23.588359      0\n",
       "10         NaN        10 -1.937181  23.636578      0\n",
       "11         NaN        11 -1.931201  23.592693      0"
      ]
     },
     "execution_count": 4,
     "metadata": {},
     "output_type": "execute_result"
    }
   ],
   "source": [
    "df = pd.concat([df_novel, df_non_novel])\n",
    "df"
   ]
  },
  {
   "cell_type": "code",
   "execution_count": 5,
   "metadata": {},
   "outputs": [],
   "source": [
    "from sklearn.metrics import classification_report\n",
    "from sklearn.linear_model import LogisticRegression"
   ]
  },
  {
   "cell_type": "code",
   "execution_count": 6,
   "metadata": {},
   "outputs": [],
   "source": [
    "Y = df['label'].to_numpy()"
   ]
  },
  {
   "cell_type": "code",
   "execution_count": 7,
   "metadata": {},
   "outputs": [
    {
     "name": "stdout",
     "output_type": "stream",
     "text": [
      "(24, 1) (24,)\n"
     ]
    }
   ],
   "source": [
    "X = df['variance'].to_numpy()\n",
    "X = X.reshape(-1,1)\n",
    "print(X.shape, Y.shape)"
   ]
  },
  {
   "cell_type": "code",
   "execution_count": 8,
   "metadata": {},
   "outputs": [
    {
     "name": "stdout",
     "output_type": "stream",
     "text": [
      "              precision    recall  f1-score   support\n",
      "\n",
      "           0       0.90      0.75      0.82        12\n",
      "           1       0.79      0.92      0.85        12\n",
      "\n",
      "    accuracy                           0.83        24\n",
      "   macro avg       0.84      0.83      0.83        24\n",
      "weighted avg       0.84      0.83      0.83        24\n",
      "\n"
     ]
    }
   ],
   "source": [
    "clf = LogisticRegression().fit(X, Y)\n",
    "results = clf.predict(X)\n",
    "print(classification_report(Y, results))"
   ]
  },
  {
   "cell_type": "code",
   "execution_count": 9,
   "metadata": {},
   "outputs": [
    {
     "name": "stdout",
     "output_type": "stream",
     "text": [
      "(24, 1) (24,)\n"
     ]
    }
   ],
   "source": [
    "X = df['KL_score'].to_numpy()\n",
    "X = X.reshape(-1,1)\n",
    "print(X.shape, Y.shape)"
   ]
  },
  {
   "cell_type": "code",
   "execution_count": 10,
   "metadata": {},
   "outputs": [
    {
     "name": "stdout",
     "output_type": "stream",
     "text": [
      "[[-2.04407995]\n",
      " [ 0.        ]\n",
      " [-2.00133186]\n",
      " [-2.00525173]\n",
      " [-1.41933851]\n",
      " [-2.4950603 ]\n",
      " [-2.25077043]\n",
      " [-1.2226095 ]\n",
      " [-1.49923498]\n",
      " [-2.59773149]\n",
      " [-1.94022916]\n",
      " [-1.74157041]\n",
      " [-1.8923849 ]\n",
      " [-1.56334393]\n",
      " [-2.14371099]\n",
      " [-1.47547327]\n",
      " [-1.49012737]\n",
      " [-1.4817433 ]\n",
      " [-1.69982093]\n",
      " [-1.71083913]\n",
      " [-1.87361906]\n",
      " [-1.93960025]\n",
      " [-1.93718107]\n",
      " [-1.93120097]]\n"
     ]
    }
   ],
   "source": [
    "print(X)"
   ]
  },
  {
   "cell_type": "code",
   "execution_count": 11,
   "metadata": {},
   "outputs": [
    {
     "name": "stdout",
     "output_type": "stream",
     "text": [
      "              precision    recall  f1-score   support\n",
      "\n",
      "           0       0.55      0.50      0.52        12\n",
      "           1       0.54      0.58      0.56        12\n",
      "\n",
      "    accuracy                           0.54        24\n",
      "   macro avg       0.54      0.54      0.54        24\n",
      "weighted avg       0.54      0.54      0.54        24\n",
      "\n"
     ]
    }
   ],
   "source": [
    "clf = LogisticRegression().fit(X, Y)\n",
    "results = clf.predict(X)\n",
    "print(classification_report(Y, results))"
   ]
  },
  {
   "cell_type": "code",
   "execution_count": null,
   "metadata": {},
   "outputs": [],
   "source": [
    "X = df[['KL_score', 'variance']].to_numpy()\n",
    "print(X.shape, Y.shape)"
   ]
  },
  {
   "cell_type": "code",
   "execution_count": null,
   "metadata": {},
   "outputs": [],
   "source": [
    "clf = LogisticRegression().fit(X, Y)\n",
    "results = clf.predict(X)\n",
    "print(classification_report(Y, results))"
   ]
  }
 ],
 "metadata": {
  "kernelspec": {
   "display_name": "Python 3",
   "language": "python",
   "name": "python3"
  },
  "language_info": {
   "codemirror_mode": {
    "name": "ipython",
    "version": 3
   },
   "file_extension": ".py",
   "mimetype": "text/x-python",
   "name": "python",
   "nbconvert_exporter": "python",
   "pygments_lexer": "ipython3",
   "version": "3.8.5"
  }
 },
 "nbformat": 4,
 "nbformat_minor": 4
}
