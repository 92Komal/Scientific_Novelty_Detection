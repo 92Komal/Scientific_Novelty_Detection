{
 "cells": [
  {
   "cell_type": "raw",
   "metadata": {},
   "source": [
    "#Delete all nodes in neo4j\n",
    "MATCH (n)\n",
    "DETACH DELETE n"
   ]
  },
  {
   "cell_type": "raw",
   "metadata": {},
   "source": [
    "#Entire Graph Code\n",
    "Match (n)-[r]->(m)\n",
    "Return n,r,m"
   ]
  },
  {
   "cell_type": "code",
   "execution_count": 1,
   "metadata": {},
   "outputs": [],
   "source": [
    "from neo4j import GraphDatabase\n",
    "import pandas as pd\n",
    "import numpy as np\n",
    "import re"
   ]
  },
  {
   "cell_type": "code",
   "execution_count": null,
   "metadata": {},
   "outputs": [],
   "source": [
    "df = pd.read_csv(\"KG_translation_triplets_results.csv\")"
   ]
  },
  {
   "cell_type": "code",
   "execution_count": null,
   "metadata": {},
   "outputs": [],
   "source": [
    "df.dropna(inplace = True)"
   ]
  },
  {
   "cell_type": "code",
   "execution_count": null,
   "metadata": {},
   "outputs": [],
   "source": [
    "df"
   ]
  },
  {
   "cell_type": "code",
   "execution_count": null,
   "metadata": {},
   "outputs": [],
   "source": [
    "def remove(x):\n",
    "    x = x.replace('\"', ' ').lower()\n",
    "    return re.sub('\\W+','_', x)"
   ]
  },
  {
   "cell_type": "code",
   "execution_count": null,
   "metadata": {},
   "outputs": [],
   "source": [
    "df.loc[(df['pred'].str.startswith('=')), 'pred'] = 'equal_to'\n",
    "df['pred'] = df['pred'].apply(remove)"
   ]
  },
  {
   "cell_type": "code",
   "execution_count": null,
   "metadata": {},
   "outputs": [],
   "source": [
    "def remove(x):\n",
    "    x = x.replace('\"', ' ').lower()\n",
    "    return x"
   ]
  },
  {
   "cell_type": "code",
   "execution_count": null,
   "metadata": {},
   "outputs": [],
   "source": [
    "df['sub'] = df['sub'].apply(remove)\n",
    "df['obj'] = df['obj'].apply(remove)"
   ]
  },
  {
   "cell_type": "code",
   "execution_count": null,
   "metadata": {},
   "outputs": [],
   "source": [
    "df"
   ]
  },
  {
   "cell_type": "raw",
   "metadata": {},
   "source": [
    "df_code = df[df['info-unit'] == 'code'].reset_index(drop = True)\n",
    "df_research = df[df['info-unit'] == 'research-problem'].reset_index(drop = True)\n",
    "df[df['sub'] != 'contribution'].reset_index(drop = True, inplace = True)"
   ]
  },
  {
   "cell_type": "code",
   "execution_count": null,
   "metadata": {},
   "outputs": [],
   "source": [
    "data_base_connection = GraphDatabase.driver(uri = \"bolt://localhost:7687\", auth=(\"neo4j\", \"AMMAAR4ahmad\"))\n",
    "session = data_base_connection.session()   "
   ]
  },
  {
   "cell_type": "code",
   "execution_count": null,
   "metadata": {},
   "outputs": [],
   "source": [
    "def execute_transactions(execution_list): \n",
    "    for i in execution_list:\n",
    "        session.run(i)"
   ]
  },
  {
   "cell_type": "code",
   "execution_count": null,
   "metadata": {},
   "outputs": [],
   "source": [
    "df = df[['info-unit', 'sub', 'pred', 'obj', 'type']]\n",
    "df = df.drop_duplicates().reset_index(drop = True)"
   ]
  },
  {
   "cell_type": "code",
   "execution_count": null,
   "metadata": {},
   "outputs": [],
   "source": [
    "info_unit = df['info-unit'].unique()\n",
    "sub_obj = pd.concat([df['sub'], df['obj']]).unique()\n",
    "print(len(sub_obj))"
   ]
  },
  {
   "cell_type": "code",
   "execution_count": null,
   "metadata": {},
   "outputs": [],
   "source": [
    "# Information Units Nodes\n",
    "info_nodes = []\n",
    "for i, info in enumerate(info_unit):\n",
    "    info_nodes.append('create (t:info_unit {info_unit : \"' + info + '\"})')\n",
    "execute_transactions(info_nodes)"
   ]
  },
  {
   "cell_type": "code",
   "execution_count": null,
   "metadata": {},
   "outputs": [],
   "source": [
    "# Subject/Object Nodes\n",
    "subject_nodes = []\n",
    "for i, sub in enumerate(sub_obj):\n",
    "    subject_nodes.append('create (t:subject_object {sub_obj: \"' + sub + '\"})')\n",
    "execute_transactions(subject_nodes)"
   ]
  },
  {
   "cell_type": "code",
   "execution_count": null,
   "metadata": {},
   "outputs": [],
   "source": [
    "df"
   ]
  },
  {
   "cell_type": "code",
   "execution_count": null,
   "metadata": {},
   "outputs": [],
   "source": [
    "def startwithdigit(x):\n",
    "    return x[0].isdigit()\n",
    "df['valid'] = df['pred'].apply(startwithdigit)\n",
    "#df = df[df['valid'] == 0].reset_index(drop = True)\n",
    "#df"
   ]
  },
  {
   "cell_type": "code",
   "execution_count": null,
   "metadata": {},
   "outputs": [],
   "source": [
    "df_temp = df[(df['type'].isin(['C', 'D']))].reset_index(drop = True)\n",
    "df_temp[df_temp['valid'] == 1]"
   ]
  },
  {
   "cell_type": "code",
   "execution_count": null,
   "metadata": {},
   "outputs": [],
   "source": [
    "#def startwithdigit(x):\n",
    "#    return x[0].isdigit()\n",
    "#df['valid'] = df['pred'].apply(startwithdigit)\n",
    "df[df['valid'] == 1]"
   ]
  },
  {
   "cell_type": "code",
   "execution_count": null,
   "metadata": {},
   "outputs": [],
   "source": [
    "# Triplets C-D\n",
    "triplet_relation = []\n",
    "df_temp = df[(df['type'].isin(['C', 'D']))].reset_index(drop = True)\n",
    "error_index = []\n",
    "for i in range(len(df_temp)):\n",
    "    info = df.iloc[i,0]\n",
    "    pred = df.iloc[i,2]\n",
    "    obj = df.iloc[i,3]\n",
    "    print(i, info, pred, obj)\n",
    "    if(pred[0].isdigit()):\n",
    "        continue\n",
    "    triplet_relation.append(f'''MATCH (a:info_unit), (b:subject_object) \n",
    "                    WHERE a.info_unit = \"{info}\" AND b.sub_obj = \"{obj}\"\n",
    "                    create (a) -[r:{pred}]-> (b)''')\n",
    "execute_transactions(triplet_relation)\n",
    "print(error_index)"
   ]
  },
  {
   "cell_type": "code",
   "execution_count": null,
   "metadata": {},
   "outputs": [],
   "source": [
    "# Triplets A,B and E\n",
    "triplets = []\n",
    "df_temp = df[(df['type'].isin(['A', 'B', 'E']))].reset_index(drop = True)\n",
    "error_index = []\n",
    "for i in range(len(df)):\n",
    "    sub = df.iloc[i,1]\n",
    "    pred = df.iloc[i,2]\n",
    "    obj = df.iloc[i,3]\n",
    "    print(i, sub, pred, obj)\n",
    "    if(pred[0].isdigit()):\n",
    "        continue\n",
    "    triplets.append(f'''MATCH (a:subject_object), (b:subject_object) \n",
    "                    WHERE a.sub_obj = \"{sub}\" AND b.sub_obj = \"{obj}\"\n",
    "                    create (a) -[r: {pred}]-> (b)''')\n",
    "execute_transactions(triplets)\n",
    "print(error_index)"
   ]
  },
  {
   "cell_type": "code",
   "execution_count": null,
   "metadata": {},
   "outputs": [],
   "source": [
    "def research_code(topic):\n",
    "    research_connect = []\n",
    "    for i in range(len(df_research)):\n",
    "        paper = str(df_research.loc[i, 'paper_ID'])\n",
    "        obj = df_research.loc[i, 'obj']\n",
    "        research_connect.append(f'''MATCH (a:paper_id), (b:subject_object) \n",
    "                                WHERE a.paper_id = \"{paper}\" AND b.info_unit = \"{obj}\"\n",
    "                                create (a) -[r:has_research_problem]-> (b)''')\n",
    "    execute_transactions(research_connect)"
   ]
  },
  {
   "cell_type": "code",
   "execution_count": null,
   "metadata": {},
   "outputs": [],
   "source": [
    "def paper_graph(topic, paper_id):\n",
    "    \n",
    "    df_temp = df[(df['topic'] == topic) & (df['paper_ID'] == paper_id)]\n",
    "    df_temp = df_temp[['info-unit', 'sub', 'pred', 'obj']]\n",
    "    \n",
    "    paper = str(paper_id)\n",
    "    \n",
    "    info_unit = df_temp['info-unit'].unique()\n",
    "    sub_obj = pd.concat([df_temp['sub'], df_temp['obj']]).unique()\n",
    "    \n",
    "    \n",
    "    # Information Units and Paper Relation\n",
    "    info_connect = []\n",
    "    for i, info in enumerate(info_unit):\n",
    "        info_connect.append(f'''MATCH (a:paper_id), (b:info_unit) \n",
    "                            WHERE a.paper_id = \"{paper}\" AND b.info_unit = \"{info}\"\n",
    "                            create (a) -[r:has]-> (b)''')\n",
    "    execute_transactions(info_connect)\n",
    "    \n",
    "    # Information Units and Subject Relation\n",
    "    triplet_relation = []\n",
    "    for i in range(len(df_temp)):\n",
    "        info = df_temp.iloc[i,0]\n",
    "        sub = df_temp.iloc[i,1]\n",
    "        triplet_relation.append(f'''MATCH (a:info_unit), (b:subject_object) \n",
    "                        WHERE a.info_unit = \"{info}\" AND b.sub_obj = \"{sub}\"\n",
    "                        create (a) -[r:contain]-> (b)''')\n",
    "    execute_transactions(triplet_relation)\n",
    "\n",
    "    # Triplets    \n",
    "    triplets = []\n",
    "    for i in range(len(df_temp)):\n",
    "        sub = df_temp.iloc[i,1]\n",
    "        pred = df_temp.iloc[i,2]\n",
    "        obj = df_temp.iloc[i,3]\n",
    "        triplets.append(f'''MATCH (a:subject_object), (b:subject_object) \n",
    "                        WHERE a.sub_obj = \"{sub}\" AND b.sub_obj = \"{obj}\"\n",
    "                        create (a) -[r: {pred}]-> (b)''')\n",
    "    execute_transactions(triplets)  \n",
    "    \n",
    "    df_temp = df_research[df_research['paper_ID'] == paper_id]\n",
    "    research_connect = []\n",
    "    for i in range(len(df_temp)):\n",
    "        obj = df_temp.iloc[i,-1]\n",
    "        research_connect.append(f'''MATCH (a:paper_id), (b:subject_object) \n",
    "                                WHERE a.paper_id = \"{paper}\" AND b.info_unit = \"{obj}\"\n",
    "                                create (a) -[r:has_research_problem]-> (b)''')\n",
    "    execute_transactions(research_connect)"
   ]
  },
  {
   "cell_type": "code",
   "execution_count": null,
   "metadata": {},
   "outputs": [],
   "source": [
    "for i in range(0,10):\n",
    "    print(i)\n",
    "    paper_graph('entailment', i)"
   ]
  },
  {
   "cell_type": "code",
   "execution_count": null,
   "metadata": {},
   "outputs": [],
   "source": [
    "info_units = set()\n",
    "subject_object = set()"
   ]
  },
  {
   "cell_type": "code",
   "execution_count": null,
   "metadata": {},
   "outputs": [],
   "source": [
    "def paper_graph(topic, paper_id):\n",
    "    \n",
    "    df_temp = df[(df['topic'] == topic) & (df['paper_ID'] == paper_id)]\n",
    "    df_temp = df_temp[['info-unit', 'sub', 'pred', 'obj']]\n",
    "    \n",
    "    paper = str(paper_id)\n",
    "    \n",
    "    paper_node = ['create (t:paper {paper_id : \"' + paper + '\"})']\n",
    "    execute_transactions(paper_node)\n",
    "    \n",
    "    info_unit = df_temp['info-unit'].unique()\n",
    "    sub_obj = pd.concat([df_temp['sub'], df_temp['obj']]).unique()\n",
    "    \n",
    "    \n",
    "    # Information Units Nodes\n",
    "    info_nodes = []\n",
    "    info_connect = []\n",
    "    for i, info in enumerate(info_unit):\n",
    "        if info not in info_units:\n",
    "            info_nodes.append('create (t:info_unit {info_unit : \"' + info + '\"})')\n",
    "            info_connect.append(f'''MATCH (a:paper_id), (b:info_unit) \n",
    "                                WHERE a.paper_id = \"{paper}\" AND b.info_unit = \"{info}\"\n",
    "                                create (a) -[r:has]-> (b)''')\n",
    "    execute_transactions(info_nodes)\n",
    "    execute_transactions(info_connect)\n",
    "    \n",
    "    # Subject/Object Nodes\n",
    "    subject_nodes = []\n",
    "    for i, sub in enumerate(sub_obj):\n",
    "        if sub not in subject_object:\n",
    "            subject_nodes.append('create (t:subject_object {sub_obj: \"' + sub + '\"})')\n",
    "    execute_transactions(subject_nodes)\n",
    "    \n",
    "    # Relations\n",
    "    relation = []\n",
    "    for i in range(len(df_temp)):\n",
    "        info = df_temp.iloc[i,0]\n",
    "        sub = df_temp.iloc[i,1]\n",
    "        relation.append(f'''MATCH (a:info_unit), (b:subject_object) \n",
    "                        WHERE a.info_unit = \"{info}\" AND b.sub_obj = \"{sub}\"\n",
    "                        create (a) -[r:contain]-> (b)''')\n",
    "    execute_transactions(relation)\n",
    "\n",
    "    # Triplets    \n",
    "    triplets = []\n",
    "    for i in range(len(df_temp)):\n",
    "        pred = df_temp.iloc[i,2]\n",
    "        pred = pred.replace(\" \", \"_\")\n",
    "        sub = df_temp.iloc[i,1]\n",
    "        obj = df_temp.iloc[i,3]\n",
    "        triplets.append(f'''MATCH (a:subject_object), (b:subject_object) \n",
    "                        WHERE a.sub_obj = \"{sub}\" AND b.sub_obj = \"{obj}\"\n",
    "                        create (a) -[r: {pred}]-> (b)''')\n",
    "    execute_transactions(triplets)    \n",
    "    \n",
    "    df_temp = df_research[df_research['paper_ID'] == paper_id]\n",
    "    research_nodes = []\n",
    "    research_connect = []\n",
    "    for i in range(len(df_temp)):\n",
    "        obj = df_temp.iloc[i,-1]\n",
    "        if obj not in subject_object:\n",
    "            research_nodes.append('create (t:subject_object {sub_obj: \"' + obj + '\"})')\n",
    "            research_connect.append(f'''MATCH (a:paper_id), (b:subject_object) \n",
    "                                WHERE a.paper_id = \"{paper}\" AND b.info_unit = \"{obj}\"\n",
    "                                create (a) -[r:has_research_problem]-> (b)''')\n",
    "    execute_transactions(research_nodes)\n",
    "    execute_transactions(research_connect)"
   ]
  },
  {
   "cell_type": "raw",
   "metadata": {},
   "source": [
    "df_temp = df_temp[['info-unit', 'sub', 'pred', 'obj']]"
   ]
  },
  {
   "cell_type": "raw",
   "metadata": {},
   "source": [
    "len(df_temp)"
   ]
  },
  {
   "cell_type": "raw",
   "metadata": {},
   "source": [
    "info_unit = df_temp['info-unit'].unique()\n",
    "sub_obj = pd.concat([df_temp['sub'], df_temp['obj']]).unique()\n",
    "len(sub_obj)"
   ]
  },
  {
   "cell_type": "raw",
   "metadata": {},
   "source": [
    "info_nodes = []\n",
    "for i, info in enumerate(info_unit):\n",
    "    info_nodes.append('create (t:info_unit {info_unit : \"' + info + '\"})')\n",
    "execute_transactions(info_nodes)"
   ]
  },
  {
   "cell_type": "raw",
   "metadata": {},
   "source": [
    "subject_nodes = []\n",
    "for i, sub in enumerate(sub_obj):\n",
    "    subject_nodes.append('create (t:subject_object {sub_obj: \"' + sub + '\"})')\n",
    "execute_transactions(subject_nodes)"
   ]
  },
  {
   "cell_type": "raw",
   "metadata": {},
   "source": [
    "relation = []\n",
    "for i in range(len(df_temp)):\n",
    "    info = df_temp.iloc[i,0]\n",
    "    sub = df_temp.iloc[i,1]\n",
    "    relation.append(f'''MATCH (a:info_unit), (b:subject_object) \n",
    "                    WHERE a.info_unit = \"{info}\" AND b.sub_obj = \"{sub}\"\n",
    "                    create (a) -[r:contain]-> (b)''')\n",
    "execute_transactions(relation)"
   ]
  },
  {
   "cell_type": "raw",
   "metadata": {},
   "source": [
    "triplets = []\n",
    "for i in range(len(df_temp)):\n",
    "    pred = df_temp.iloc[i,2]\n",
    "    pred = pred.replace(\" \", \"_\")\n",
    "    sub = df_temp.iloc[i,1]\n",
    "    obj = df_temp.iloc[i,3]\n",
    "    triplets.append(f'''MATCH (a:subject_object), (b:subject_object) \n",
    "                    WHERE a.sub_obj = \"{sub}\" AND b.sub_obj = \"{obj}\"\n",
    "                    create (a) -[r: {pred}]-> (b)''')\n",
    "execute_transactions(triplets)"
   ]
  }
 ],
 "metadata": {
  "kernelspec": {
   "display_name": "Python 3",
   "language": "python",
   "name": "python3"
  },
  "language_info": {
   "codemirror_mode": {
    "name": "ipython",
    "version": 3
   },
   "file_extension": ".py",
   "mimetype": "text/x-python",
   "name": "python",
   "nbconvert_exporter": "python",
   "pygments_lexer": "ipython3",
   "version": "3.8.5"
  }
 },
 "nbformat": 4,
 "nbformat_minor": 4
}
