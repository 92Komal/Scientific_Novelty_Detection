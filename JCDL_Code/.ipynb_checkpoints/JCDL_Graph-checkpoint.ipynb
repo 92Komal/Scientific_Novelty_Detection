{
 "cells": [
  {
   "cell_type": "code",
   "execution_count": 1,
   "metadata": {},
   "outputs": [],
   "source": [
    "import pandas as pd\n",
    "import numpy as np\n",
    "import matplotlib.pyplot as plt"
   ]
  },
  {
   "cell_type": "code",
   "execution_count": 2,
   "metadata": {},
   "outputs": [
    {
     "data": {
      "text/html": [
       "<div>\n",
       "<style scoped>\n",
       "    .dataframe tbody tr th:only-of-type {\n",
       "        vertical-align: middle;\n",
       "    }\n",
       "\n",
       "    .dataframe tbody tr th {\n",
       "        vertical-align: top;\n",
       "    }\n",
       "\n",
       "    .dataframe thead th {\n",
       "        text-align: right;\n",
       "    }\n",
       "</style>\n",
       "<table border=\"1\" class=\"dataframe\">\n",
       "  <thead>\n",
       "    <tr style=\"text-align: right;\">\n",
       "      <th></th>\n",
       "      <th>Precision 0</th>\n",
       "      <th>Recall 0</th>\n",
       "      <th>Precision 1</th>\n",
       "      <th>Recall 1</th>\n",
       "      <th>Avg F1</th>\n",
       "      <th>Accuracy</th>\n",
       "      <th>F1 0</th>\n",
       "      <th>F1 1</th>\n",
       "    </tr>\n",
       "  </thead>\n",
       "  <tbody>\n",
       "    <tr>\n",
       "      <th>Sum</th>\n",
       "      <td>0.62</td>\n",
       "      <td>0.62</td>\n",
       "      <td>0.62</td>\n",
       "      <td>0.62</td>\n",
       "      <td>0.62</td>\n",
       "      <td>0.62</td>\n",
       "      <td>0.62</td>\n",
       "      <td>0.62</td>\n",
       "    </tr>\n",
       "    <tr>\n",
       "      <th>SA</th>\n",
       "      <td>0.45</td>\n",
       "      <td>0.45</td>\n",
       "      <td>0.45</td>\n",
       "      <td>0.45</td>\n",
       "      <td>0.45</td>\n",
       "      <td>0.45</td>\n",
       "      <td>0.45</td>\n",
       "      <td>0.45</td>\n",
       "    </tr>\n",
       "    <tr>\n",
       "      <th>QA</th>\n",
       "      <td>0.45</td>\n",
       "      <td>0.45</td>\n",
       "      <td>0.45</td>\n",
       "      <td>0.45</td>\n",
       "      <td>0.45</td>\n",
       "      <td>0.45</td>\n",
       "      <td>0.45</td>\n",
       "      <td>0.45</td>\n",
       "    </tr>\n",
       "    <tr>\n",
       "      <th>Dia</th>\n",
       "      <td>0.36</td>\n",
       "      <td>0.36</td>\n",
       "      <td>0.36</td>\n",
       "      <td>0.36</td>\n",
       "      <td>0.36</td>\n",
       "      <td>0.36</td>\n",
       "      <td>0.36</td>\n",
       "      <td>0.36</td>\n",
       "    </tr>\n",
       "    <tr>\n",
       "      <th>MT</th>\n",
       "      <td>0.62</td>\n",
       "      <td>0.62</td>\n",
       "      <td>0.62</td>\n",
       "      <td>0.62</td>\n",
       "      <td>0.62</td>\n",
       "      <td>0.62</td>\n",
       "      <td>0.62</td>\n",
       "      <td>0.62</td>\n",
       "    </tr>\n",
       "    <tr>\n",
       "      <th>Average</th>\n",
       "      <td>0.50</td>\n",
       "      <td>0.50</td>\n",
       "      <td>0.50</td>\n",
       "      <td>0.50</td>\n",
       "      <td>0.50</td>\n",
       "      <td>0.50</td>\n",
       "      <td>0.50</td>\n",
       "      <td>0.50</td>\n",
       "    </tr>\n",
       "  </tbody>\n",
       "</table>\n",
       "</div>"
      ],
      "text/plain": [
       "         Precision 0  Recall 0  Precision 1  Recall 1  Avg F1  Accuracy  F1 0  \\\n",
       "Sum             0.62      0.62         0.62      0.62    0.62      0.62  0.62   \n",
       "SA              0.45      0.45         0.45      0.45    0.45      0.45  0.45   \n",
       "QA              0.45      0.45         0.45      0.45    0.45      0.45  0.45   \n",
       "Dia             0.36      0.36         0.36      0.36    0.36      0.36  0.36   \n",
       "MT              0.62      0.62         0.62      0.62    0.62      0.62  0.62   \n",
       "Average         0.50      0.50         0.50      0.50    0.50      0.50  0.50   \n",
       "\n",
       "         F1 1  \n",
       "Sum      0.62  \n",
       "SA       0.45  \n",
       "QA       0.45  \n",
       "Dia      0.36  \n",
       "MT       0.62  \n",
       "Average  0.50  "
      ]
     },
     "execution_count": 2,
     "metadata": {},
     "output_type": "execute_result"
    }
   ],
   "source": [
    "df_KL = pd.read_csv(input(\"KL Divergence Results input csv file\"), index_col = 0)\n",
    "df_KL = df_KL.T\n",
    "df_KL"
   ]
  },
  {
   "cell_type": "code",
   "execution_count": 3,
   "metadata": {},
   "outputs": [
    {
     "data": {
      "text/html": [
       "<div>\n",
       "<style scoped>\n",
       "    .dataframe tbody tr th:only-of-type {\n",
       "        vertical-align: middle;\n",
       "    }\n",
       "\n",
       "    .dataframe tbody tr th {\n",
       "        vertical-align: top;\n",
       "    }\n",
       "\n",
       "    .dataframe thead th {\n",
       "        text-align: right;\n",
       "    }\n",
       "</style>\n",
       "<table border=\"1\" class=\"dataframe\">\n",
       "  <thead>\n",
       "    <tr style=\"text-align: right;\">\n",
       "      <th></th>\n",
       "      <th>Precision 0</th>\n",
       "      <th>Recall 0</th>\n",
       "      <th>Precision 1</th>\n",
       "      <th>Recall 1</th>\n",
       "      <th>Avg F1</th>\n",
       "      <th>Accuracy</th>\n",
       "      <th>F1 0</th>\n",
       "      <th>F1 1</th>\n",
       "    </tr>\n",
       "  </thead>\n",
       "  <tbody>\n",
       "    <tr>\n",
       "      <th>Sum</th>\n",
       "      <td>0.380</td>\n",
       "      <td>0.380</td>\n",
       "      <td>0.380</td>\n",
       "      <td>0.380</td>\n",
       "      <td>0.380</td>\n",
       "      <td>0.380</td>\n",
       "      <td>0.380</td>\n",
       "      <td>0.380</td>\n",
       "    </tr>\n",
       "    <tr>\n",
       "      <th>SA</th>\n",
       "      <td>0.450</td>\n",
       "      <td>0.450</td>\n",
       "      <td>0.450</td>\n",
       "      <td>0.450</td>\n",
       "      <td>0.450</td>\n",
       "      <td>0.450</td>\n",
       "      <td>0.450</td>\n",
       "      <td>0.450</td>\n",
       "    </tr>\n",
       "    <tr>\n",
       "      <th>QA</th>\n",
       "      <td>0.400</td>\n",
       "      <td>0.400</td>\n",
       "      <td>0.400</td>\n",
       "      <td>0.400</td>\n",
       "      <td>0.400</td>\n",
       "      <td>0.400</td>\n",
       "      <td>0.400</td>\n",
       "      <td>0.400</td>\n",
       "    </tr>\n",
       "    <tr>\n",
       "      <th>Dia</th>\n",
       "      <td>0.270</td>\n",
       "      <td>0.270</td>\n",
       "      <td>0.270</td>\n",
       "      <td>0.270</td>\n",
       "      <td>0.270</td>\n",
       "      <td>0.270</td>\n",
       "      <td>0.270</td>\n",
       "      <td>0.270</td>\n",
       "    </tr>\n",
       "    <tr>\n",
       "      <th>MT</th>\n",
       "      <td>0.380</td>\n",
       "      <td>0.380</td>\n",
       "      <td>0.380</td>\n",
       "      <td>0.380</td>\n",
       "      <td>0.380</td>\n",
       "      <td>0.380</td>\n",
       "      <td>0.380</td>\n",
       "      <td>0.380</td>\n",
       "    </tr>\n",
       "    <tr>\n",
       "      <th>Average</th>\n",
       "      <td>0.376</td>\n",
       "      <td>0.376</td>\n",
       "      <td>0.376</td>\n",
       "      <td>0.376</td>\n",
       "      <td>0.376</td>\n",
       "      <td>0.376</td>\n",
       "      <td>0.376</td>\n",
       "      <td>0.376</td>\n",
       "    </tr>\n",
       "  </tbody>\n",
       "</table>\n",
       "</div>"
      ],
      "text/plain": [
       "         Precision 0  Recall 0  Precision 1  Recall 1  Avg F1  Accuracy  \\\n",
       "Sum            0.380     0.380        0.380     0.380   0.380     0.380   \n",
       "SA             0.450     0.450        0.450     0.450   0.450     0.450   \n",
       "QA             0.400     0.400        0.400     0.400   0.400     0.400   \n",
       "Dia            0.270     0.270        0.270     0.270   0.270     0.270   \n",
       "MT             0.380     0.380        0.380     0.380   0.380     0.380   \n",
       "Average        0.376     0.376        0.376     0.376   0.376     0.376   \n",
       "\n",
       "          F1 0   F1 1  \n",
       "Sum      0.380  0.380  \n",
       "SA       0.450  0.450  \n",
       "QA       0.400  0.400  \n",
       "Dia      0.270  0.270  \n",
       "MT       0.380  0.380  \n",
       "Average  0.376  0.376  "
      ]
     },
     "execution_count": 3,
     "metadata": {},
     "output_type": "execute_result"
    }
   ],
   "source": [
    "df_Var = pd.read_csv(input(\"Variance Results input csv file\"), index_col = 0)\n",
    "df_Var = df_Var.T\n",
    "df_Var"
   ]
  },
  {
   "cell_type": "code",
   "execution_count": 4,
   "metadata": {},
   "outputs": [],
   "source": [
    "Category = df_KL.index.to_numpy()[0:5]\n",
    "KL_Acc = df_KL.Accuracy.to_numpy()[0:5]\n",
    "Var_Acc = df_Var.Accuracy.to_numpy()[0:5]"
   ]
  },
  {
   "cell_type": "code",
   "execution_count": 5,
   "metadata": {},
   "outputs": [
    {
     "name": "stdout",
     "output_type": "stream",
     "text": [
      "[0 1 2 3 4]\n"
     ]
    },
    {
     "data": {
      "image/png": "[encoded data removed]",
      "text/plain": [
       "<Figure size 648x432 with 1 Axes>"
      ]
     },
     "metadata": {
      "needs_background": "light"
     },
     "output_type": "display_data"
    }
   ],
   "source": [
    "fig = plt.figure(figsize = (9, 6))\n",
    "c = ['red', 'blue']\n",
    "X_axis = np.arange(len(Category))\n",
    "print(X_axis)\n",
    "plt.bar(X_axis - 0.3, KL_Acc, 0.3, label = 'KL Divergence')\n",
    "plt.bar(X_axis, Var_Acc, 0.3, label = 'Variance')\n",
    "plt.xticks(X_axis-0.15, Category)\n",
    "plt.xlabel(\"Domains\")\n",
    "plt.ylabel(\"Accuracy\")\n",
    "plt.title(\"Accuracy with KL Divergence and Variance\")\n",
    "plt.legend()\n",
    "plt.show()"
   ]
  },
  {
   "cell_type": "code",
   "execution_count": null,
   "metadata": {},
   "outputs": [],
   "source": [
    "KL0 = df_KL[\"F1 0\"].to_numpy()[0:5]\n",
    "KL1 = df_KL[\"F1 1\"].to_numpy()[0:5]"
   ]
  },
  {
   "cell_type": "code",
   "execution_count": null,
   "metadata": {},
   "outputs": [],
   "source": [
    "fig = plt.figure(figsize = (9, 6))\n",
    "c = ['red', 'blue']\n",
    "X_axis = np.arange(len(Category))\n",
    "print(X_axis)\n",
    "plt.bar(X_axis - 0.3, KL0, 0.3, label = 'Non-Novel')\n",
    "plt.bar(X_axis, KL1, 0.3, label = 'Novel')\n",
    "plt.xticks(X_axis-0.15, Category)\n",
    "plt.xlabel(\"Domains\")\n",
    "plt.ylabel(\"F1 Score\")\n",
    "plt.title(\"KL Divergence F1 Score\")\n",
    "plt.legend()\n",
    "plt.show()"
   ]
  },
  {
   "cell_type": "code",
   "execution_count": null,
   "metadata": {},
   "outputs": [],
   "source": [
    "Var0 = df_Var[\"F1 0\"].to_numpy()[0:5]\n",
    "Var1 = df_Var[\"F1 1\"].to_numpy()[0:5]"
   ]
  },
  {
   "cell_type": "code",
   "execution_count": null,
   "metadata": {},
   "outputs": [],
   "source": [
    "fig = plt.figure(figsize = (9, 6))\n",
    "c = ['red', 'blue']\n",
    "X_axis = np.arange(len(Category))\n",
    "print(X_axis)\n",
    "plt.bar(X_axis - 0.3, Var0, 0.3, label = 'Non-Novel')\n",
    "plt.bar(X_axis, Var1, 0.3, label = 'Novel')\n",
    "plt.xticks(X_axis-0.15, Category)\n",
    "plt.xlabel(\"Domains\")\n",
    "plt.ylabel(\"F1 Score\")\n",
    "plt.title(\"Variance F1 Score\")\n",
    "plt.legend()\n",
    "plt.show()"
   ]
  }
 ],
 "metadata": {
  "kernelspec": {
   "display_name": "Python 3",
   "language": "python",
   "name": "python3"
  },
  "language_info": {
   "codemirror_mode": {
    "name": "ipython",
    "version": 3
   },
   "file_extension": ".py",
   "mimetype": "text/x-python",
   "name": "python",
   "nbconvert_exporter": "python",
   "pygments_lexer": "ipython3",
   "version": "3.8.5"
  }
 },
 "nbformat": 4,
 "nbformat_minor": 4
}
