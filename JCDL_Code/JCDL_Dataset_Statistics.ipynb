{
 "cells": [
  {
   "cell_type": "code",
   "execution_count": 1,
   "metadata": {},
   "outputs": [],
   "source": [
    "import pandas as pd\n",
    "import numpy as np"
   ]
  },
  {
   "cell_type": "code",
   "execution_count": 2,
   "metadata": {},
   "outputs": [
    {
     "name": "stdout",
     "output_type": "stream",
     "text": [
      "Enter the triplets csv file path/home/ammaar/Desktop/JCDL/Scientific_Novelty_Detection/Triplets/Blogs/Sum_triplets.csv\n"
     ]
    }
   ],
   "source": [
    "df = pd.read_csv(input(\"Enter the triplets csv file path\"))"
   ]
  },
  {
   "cell_type": "code",
   "execution_count": 3,
   "metadata": {},
   "outputs": [
    {
     "data": {
      "text/plain": [
       "1769"
      ]
     },
     "execution_count": 3,
     "metadata": {},
     "output_type": "execute_result"
    }
   ],
   "source": [
    "len(pd.concat([df['sub'], df['obj']]).unique())"
   ]
  },
  {
   "cell_type": "code",
   "execution_count": 4,
   "metadata": {},
   "outputs": [
    {
     "data": {
      "text/plain": [
       "2382"
      ]
     },
     "execution_count": 4,
     "metadata": {},
     "output_type": "execute_result"
    }
   ],
   "source": [
    "len(pd.concat([df['sub'], df['obj']]).unique()) + len(df['pred'].unique())"
   ]
  },
  {
   "cell_type": "code",
   "execution_count": 5,
   "metadata": {},
   "outputs": [],
   "source": [
    "df['triplets'] = df['sub'] + \" \" + df['pred'] + \" \" + df['obj']"
   ]
  },
  {
   "cell_type": "code",
   "execution_count": 6,
   "metadata": {},
   "outputs": [
    {
     "data": {
      "text/html": [
       "<div>\n",
       "<style scoped>\n",
       "    .dataframe tbody tr th:only-of-type {\n",
       "        vertical-align: middle;\n",
       "    }\n",
       "\n",
       "    .dataframe tbody tr th {\n",
       "        vertical-align: top;\n",
       "    }\n",
       "\n",
       "    .dataframe thead th {\n",
       "        text-align: right;\n",
       "    }\n",
       "</style>\n",
       "<table border=\"1\" class=\"dataframe\">\n",
       "  <thead>\n",
       "    <tr style=\"text-align: right;\">\n",
       "      <th></th>\n",
       "      <th>topic</th>\n",
       "      <th>paper_ID</th>\n",
       "      <th>sentence_ID</th>\n",
       "      <th>info-unit</th>\n",
       "      <th>sub</th>\n",
       "      <th>pred</th>\n",
       "      <th>obj</th>\n",
       "      <th>triplets</th>\n",
       "    </tr>\n",
       "  </thead>\n",
       "  <tbody>\n",
       "    <tr>\n",
       "      <th>0</th>\n",
       "      <td>summarization</td>\n",
       "      <td>0</td>\n",
       "      <td>40</td>\n",
       "      <td>ablation-analysis</td>\n",
       "      <td>intrinsic quality</td>\n",
       "      <td>of</td>\n",
       "      <td>citation contextualisation</td>\n",
       "      <td>intrinsic quality of citation contextualisation</td>\n",
       "    </tr>\n",
       "    <tr>\n",
       "      <th>1</th>\n",
       "      <td>summarization</td>\n",
       "      <td>0</td>\n",
       "      <td>40</td>\n",
       "      <td>ablation-analysis</td>\n",
       "      <td>direct impact</td>\n",
       "      <td>on</td>\n",
       "      <td>end</td>\n",
       "      <td>direct impact on end</td>\n",
       "    </tr>\n",
       "    <tr>\n",
       "      <th>2</th>\n",
       "      <td>summarization</td>\n",
       "      <td>0</td>\n",
       "      <td>40</td>\n",
       "      <td>ablation-analysis</td>\n",
       "      <td>citation contextualisation</td>\n",
       "      <td>has</td>\n",
       "      <td>direct impact</td>\n",
       "      <td>citation contextualisation has direct impact</td>\n",
       "    </tr>\n",
       "    <tr>\n",
       "      <th>3</th>\n",
       "      <td>summarization</td>\n",
       "      <td>0</td>\n",
       "      <td>40</td>\n",
       "      <td>ablation-analysis</td>\n",
       "      <td>Ablation analysis</td>\n",
       "      <td>showcase</td>\n",
       "      <td>intrinsic quality</td>\n",
       "      <td>Ablation analysis showcase intrinsic quality</td>\n",
       "    </tr>\n",
       "    <tr>\n",
       "      <th>4</th>\n",
       "      <td>summarization</td>\n",
       "      <td>0</td>\n",
       "      <td>4</td>\n",
       "      <td>baselines</td>\n",
       "      <td>Baselines</td>\n",
       "      <td>has</td>\n",
       "      <td>Citation text</td>\n",
       "      <td>Baselines has Citation text</td>\n",
       "    </tr>\n",
       "    <tr>\n",
       "      <th>...</th>\n",
       "      <td>...</td>\n",
       "      <td>...</td>\n",
       "      <td>...</td>\n",
       "      <td>...</td>\n",
       "      <td>...</td>\n",
       "      <td>...</td>\n",
       "      <td>...</td>\n",
       "      <td>...</td>\n",
       "    </tr>\n",
       "    <tr>\n",
       "      <th>2191</th>\n",
       "      <td>summarization</td>\n",
       "      <td>24</td>\n",
       "      <td>58</td>\n",
       "      <td>results</td>\n",
       "      <td>Results</td>\n",
       "      <td>has</td>\n",
       "      <td>Results</td>\n",
       "      <td>Results has Results</td>\n",
       "    </tr>\n",
       "    <tr>\n",
       "      <th>2192</th>\n",
       "      <td>summarization</td>\n",
       "      <td>24</td>\n",
       "      <td>59</td>\n",
       "      <td>results</td>\n",
       "      <td>all the extractive models</td>\n",
       "      <td>in</td>\n",
       "      <td>ROUGE -L</td>\n",
       "      <td>all the extractive models in ROUGE -L</td>\n",
       "    </tr>\n",
       "    <tr>\n",
       "      <th>2193</th>\n",
       "      <td>summarization</td>\n",
       "      <td>24</td>\n",
       "      <td>59</td>\n",
       "      <td>results</td>\n",
       "      <td>Discourse- aware abstractive model</td>\n",
       "      <td>has</td>\n",
       "      <td>outperformed</td>\n",
       "      <td>Discourse- aware abstractive model has outperf...</td>\n",
       "    </tr>\n",
       "    <tr>\n",
       "      <th>2194</th>\n",
       "      <td>summarization</td>\n",
       "      <td>24</td>\n",
       "      <td>59</td>\n",
       "      <td>results</td>\n",
       "      <td>outperformed</td>\n",
       "      <td>has</td>\n",
       "      <td>all the extractive models</td>\n",
       "      <td>outperformed has all the extractive models</td>\n",
       "    </tr>\n",
       "    <tr>\n",
       "      <th>2195</th>\n",
       "      <td>summarization</td>\n",
       "      <td>24</td>\n",
       "      <td>59</td>\n",
       "      <td>results</td>\n",
       "      <td>Results</td>\n",
       "      <td>has</td>\n",
       "      <td>Discourse- aware abstractive model</td>\n",
       "      <td>Results has Discourse- aware abstractive model</td>\n",
       "    </tr>\n",
       "  </tbody>\n",
       "</table>\n",
       "<p>2196 rows × 8 columns</p>\n",
       "</div>"
      ],
      "text/plain": [
       "              topic  paper_ID  sentence_ID          info-unit  \\\n",
       "0     summarization         0           40  ablation-analysis   \n",
       "1     summarization         0           40  ablation-analysis   \n",
       "2     summarization         0           40  ablation-analysis   \n",
       "3     summarization         0           40  ablation-analysis   \n",
       "4     summarization         0            4          baselines   \n",
       "...             ...       ...          ...                ...   \n",
       "2191  summarization        24           58            results   \n",
       "2192  summarization        24           59            results   \n",
       "2193  summarization        24           59            results   \n",
       "2194  summarization        24           59            results   \n",
       "2195  summarization        24           59            results   \n",
       "\n",
       "                                     sub      pred  \\\n",
       "0                      intrinsic quality        of   \n",
       "1                          direct impact        on   \n",
       "2             citation contextualisation       has   \n",
       "3                      Ablation analysis  showcase   \n",
       "4                              Baselines       has   \n",
       "...                                  ...       ...   \n",
       "2191                             Results       has   \n",
       "2192           all the extractive models        in   \n",
       "2193  Discourse- aware abstractive model       has   \n",
       "2194                        outperformed       has   \n",
       "2195                             Results       has   \n",
       "\n",
       "                                     obj  \\\n",
       "0             citation contextualisation   \n",
       "1                                    end   \n",
       "2                          direct impact   \n",
       "3                      intrinsic quality   \n",
       "4                          Citation text   \n",
       "...                                  ...   \n",
       "2191                             Results   \n",
       "2192                            ROUGE -L   \n",
       "2193                        outperformed   \n",
       "2194           all the extractive models   \n",
       "2195  Discourse- aware abstractive model   \n",
       "\n",
       "                                               triplets  \n",
       "0       intrinsic quality of citation contextualisation  \n",
       "1                                  direct impact on end  \n",
       "2          citation contextualisation has direct impact  \n",
       "3          Ablation analysis showcase intrinsic quality  \n",
       "4                           Baselines has Citation text  \n",
       "...                                                 ...  \n",
       "2191                                Results has Results  \n",
       "2192              all the extractive models in ROUGE -L  \n",
       "2193  Discourse- aware abstractive model has outperf...  \n",
       "2194         outperformed has all the extractive models  \n",
       "2195     Results has Discourse- aware abstractive model  \n",
       "\n",
       "[2196 rows x 8 columns]"
      ]
     },
     "execution_count": 6,
     "metadata": {},
     "output_type": "execute_result"
    }
   ],
   "source": [
    "df"
   ]
  },
  {
   "cell_type": "code",
   "execution_count": 7,
   "metadata": {},
   "outputs": [
    {
     "data": {
      "text/plain": [
       "2126"
      ]
     },
     "execution_count": 7,
     "metadata": {},
     "output_type": "execute_result"
    }
   ],
   "source": [
    "len(df['triplets'].unique())"
   ]
  },
  {
   "cell_type": "code",
   "execution_count": 8,
   "metadata": {},
   "outputs": [
    {
     "data": {
      "text/plain": [
       "1064"
      ]
     },
     "execution_count": 8,
     "metadata": {},
     "output_type": "execute_result"
    }
   ],
   "source": [
    "len(df['sub'].unique())"
   ]
  },
  {
   "cell_type": "code",
   "execution_count": 9,
   "metadata": {},
   "outputs": [
    {
     "data": {
      "text/plain": [
       "613"
      ]
     },
     "execution_count": 9,
     "metadata": {},
     "output_type": "execute_result"
    }
   ],
   "source": [
    "len(df['pred'].unique())"
   ]
  },
  {
   "cell_type": "code",
   "execution_count": 10,
   "metadata": {},
   "outputs": [
    {
     "data": {
      "text/plain": [
       "1540"
      ]
     },
     "execution_count": 10,
     "metadata": {},
     "output_type": "execute_result"
    }
   ],
   "source": [
    "len(df['obj'].unique())"
   ]
  },
  {
   "cell_type": "code",
   "execution_count": null,
   "metadata": {},
   "outputs": [],
   "source": [
    "print(1281+5644+32667)\n",
    "print(1170+5408+29747)\n",
    "print(671+2651+12188)\n",
    "print(426+1009+3353)\n",
    "print(937+3778+17263)"
   ]
  },
  {
   "cell_type": "code",
   "execution_count": 11,
   "metadata": {},
   "outputs": [
    {
     "name": "stdout",
     "output_type": "stream",
     "text": [
      "21749\n",
      "20076\n",
      "9392\n",
      "3595\n",
      "13281\n"
     ]
    }
   ],
   "source": [
    "print(14386+5167+2196)\n",
    "print(12954+4996+2126)\n",
    "print(5858+2470+1064)\n",
    "print(1976+1006+613)\n",
    "print(8271+3470+1540)"
   ]
  }
 ],
 "metadata": {
  "kernelspec": {
   "display_name": "Python 3",
   "language": "python",
   "name": "python3"
  },
  "language_info": {
   "codemirror_mode": {
    "name": "ipython",
    "version": 3
   },
   "file_extension": ".py",
   "mimetype": "text/x-python",
   "name": "python",
   "nbconvert_exporter": "python",
   "pygments_lexer": "ipython3",
   "version": "3.8.5"
  }
 },
 "nbformat": 4,
 "nbformat_minor": 4
}
