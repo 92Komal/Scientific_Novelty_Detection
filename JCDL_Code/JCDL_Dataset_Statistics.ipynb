{
 "cells": [
  {
   "cell_type": "code",
   "execution_count": 1,
   "metadata": {},
   "outputs": [],
   "source": [
    "import pandas as pd\n",
    "import numpy as np"
   ]
  },
  {
   "cell_type": "code",
   "execution_count": 2,
   "metadata": {},
   "outputs": [],
   "source": [
    "df1 = pd.read_csv(\"JCDL_Triplets/KG/Sum_triplets_weights.csv\")\n",
    "df2 = pd.read_csv(\"JCDL_Triplets/Blogs/Sum_Blogs_triplets_weights.csv\")\n",
    "df3 = pd.read_csv(\"JCDL_Triplets/Novel/Sum2021_triplets_weights.csv\")"
   ]
  },
  {
   "cell_type": "code",
   "execution_count": 3,
   "metadata": {},
   "outputs": [
    {
     "name": "stdout",
     "output_type": "stream",
     "text": [
      "244\n",
      "8\n",
      "78\n"
     ]
    }
   ],
   "source": [
    "print(len(df1[['topic' , 'paper_ID']].drop_duplicates()))\n",
    "print(len(df2[['topic' , 'paper_ID']].drop_duplicates()))\n",
    "print(df3['paper_ID'].max()+1)"
   ]
  },
  {
   "cell_type": "code",
   "execution_count": 4,
   "metadata": {},
   "outputs": [],
   "source": [
    "df = pd.concat([df1,df2,df3])"
   ]
  },
  {
   "cell_type": "code",
   "execution_count": 5,
   "metadata": {},
   "outputs": [
    {
     "data": {
      "text/plain": [
       "9144"
      ]
     },
     "execution_count": 5,
     "metadata": {},
     "output_type": "execute_result"
    }
   ],
   "source": [
    "len(pd.concat([df1['sub'], df1['obj']]).unique())"
   ]
  },
  {
   "cell_type": "code",
   "execution_count": 6,
   "metadata": {},
   "outputs": [
    {
     "data": {
      "text/plain": [
       "15196"
      ]
     },
     "execution_count": 6,
     "metadata": {},
     "output_type": "execute_result"
    }
   ],
   "source": [
    "len(pd.concat([df['sub'], df['obj']]).unique()) + len(df['pred'].unique())"
   ]
  },
  {
   "cell_type": "code",
   "execution_count": 7,
   "metadata": {},
   "outputs": [],
   "source": [
    "df['triplets'] = df['sub'] + \" \" + df['pred'] + \" \" + df['obj']"
   ]
  },
  {
   "cell_type": "code",
   "execution_count": 8,
   "metadata": {},
   "outputs": [
    {
     "data": {
      "text/html": [
       "<div>\n",
       "<style scoped>\n",
       "    .dataframe tbody tr th:only-of-type {\n",
       "        vertical-align: middle;\n",
       "    }\n",
       "\n",
       "    .dataframe tbody tr th {\n",
       "        vertical-align: top;\n",
       "    }\n",
       "\n",
       "    .dataframe thead th {\n",
       "        text-align: right;\n",
       "    }\n",
       "</style>\n",
       "<table border=\"1\" class=\"dataframe\">\n",
       "  <thead>\n",
       "    <tr style=\"text-align: right;\">\n",
       "      <th></th>\n",
       "      <th>topic</th>\n",
       "      <th>paper_ID</th>\n",
       "      <th>sentence_ID</th>\n",
       "      <th>info-unit</th>\n",
       "      <th>sub</th>\n",
       "      <th>pred</th>\n",
       "      <th>obj</th>\n",
       "      <th>triplets</th>\n",
       "      <th>pred_weights</th>\n",
       "    </tr>\n",
       "  </thead>\n",
       "  <tbody>\n",
       "    <tr>\n",
       "      <th>0</th>\n",
       "      <td>translation</td>\n",
       "      <td>0</td>\n",
       "      <td>108</td>\n",
       "      <td>baselines</td>\n",
       "      <td>pos n-grams</td>\n",
       "      <td>use</td>\n",
       "      <td>part- of-speech tags</td>\n",
       "      <td>pos n-grams use part- of-speech tags</td>\n",
       "      <td>0.590652</td>\n",
       "    </tr>\n",
       "    <tr>\n",
       "      <th>1</th>\n",
       "      <td>translation</td>\n",
       "      <td>0</td>\n",
       "      <td>108</td>\n",
       "      <td>baselines</td>\n",
       "      <td>baselines</td>\n",
       "      <td>has</td>\n",
       "      <td>pos n-grams</td>\n",
       "      <td>baselines has pos n-grams</td>\n",
       "      <td>0.550340</td>\n",
       "    </tr>\n",
       "    <tr>\n",
       "      <th>2</th>\n",
       "      <td>translation</td>\n",
       "      <td>0</td>\n",
       "      <td>31</td>\n",
       "      <td>model</td>\n",
       "      <td>summarization</td>\n",
       "      <td>generate</td>\n",
       "      <td>multiple compression candidates</td>\n",
       "      <td>summarization generate multiple compression ca...</td>\n",
       "      <td>0.662742</td>\n",
       "    </tr>\n",
       "    <tr>\n",
       "      <th>3</th>\n",
       "      <td>translation</td>\n",
       "      <td>0</td>\n",
       "      <td>31</td>\n",
       "      <td>model</td>\n",
       "      <td>summarization</td>\n",
       "      <td>use</td>\n",
       "      <td>ilp framework</td>\n",
       "      <td>summarization use ilp framework</td>\n",
       "      <td>0.570302</td>\n",
       "    </tr>\n",
       "    <tr>\n",
       "      <th>4</th>\n",
       "      <td>translation</td>\n",
       "      <td>0</td>\n",
       "      <td>31</td>\n",
       "      <td>model</td>\n",
       "      <td>multiple compression candidates</td>\n",
       "      <td>for</td>\n",
       "      <td>each sentence</td>\n",
       "      <td>multiple compression candidates for each sentence</td>\n",
       "      <td>0.630202</td>\n",
       "    </tr>\n",
       "    <tr>\n",
       "      <th>...</th>\n",
       "      <td>...</td>\n",
       "      <td>...</td>\n",
       "      <td>...</td>\n",
       "      <td>...</td>\n",
       "      <td>...</td>\n",
       "      <td>...</td>\n",
       "      <td>...</td>\n",
       "      <td>...</td>\n",
       "      <td>...</td>\n",
       "    </tr>\n",
       "    <tr>\n",
       "      <th>5162</th>\n",
       "      <td>translation</td>\n",
       "      <td>77</td>\n",
       "      <td>85</td>\n",
       "      <td>results</td>\n",
       "      <td>results</td>\n",
       "      <td>adjusting</td>\n",
       "      <td>decoder states</td>\n",
       "      <td>results adjusting decoder states</td>\n",
       "      <td>0.651876</td>\n",
       "    </tr>\n",
       "    <tr>\n",
       "      <th>5163</th>\n",
       "      <td>translation</td>\n",
       "      <td>77</td>\n",
       "      <td>118</td>\n",
       "      <td>results</td>\n",
       "      <td>42.5 %</td>\n",
       "      <td>of</td>\n",
       "      <td>output pairs</td>\n",
       "      <td>42.5 % of output pairs</td>\n",
       "      <td>0.571571</td>\n",
       "    </tr>\n",
       "    <tr>\n",
       "      <th>5164</th>\n",
       "      <td>translation</td>\n",
       "      <td>77</td>\n",
       "      <td>118</td>\n",
       "      <td>results</td>\n",
       "      <td>output pairs</td>\n",
       "      <td>by</td>\n",
       "      <td>decoder state adjustment model</td>\n",
       "      <td>output pairs by decoder state adjustment model</td>\n",
       "      <td>0.551500</td>\n",
       "    </tr>\n",
       "    <tr>\n",
       "      <th>5165</th>\n",
       "      <td>translation</td>\n",
       "      <td>77</td>\n",
       "      <td>118</td>\n",
       "      <td>results</td>\n",
       "      <td>distinguished</td>\n",
       "      <td>significantly higher than</td>\n",
       "      <td>baselines</td>\n",
       "      <td>distinguished significantly higher than baselines</td>\n",
       "      <td>0.644348</td>\n",
       "    </tr>\n",
       "    <tr>\n",
       "      <th>5166</th>\n",
       "      <td>translation</td>\n",
       "      <td>77</td>\n",
       "      <td>118</td>\n",
       "      <td>results</td>\n",
       "      <td>baselines</td>\n",
       "      <td>has</td>\n",
       "      <td>24.5 % and 11.6 % )</td>\n",
       "      <td>baselines has 24.5 % and 11.6 % )</td>\n",
       "      <td>0.534384</td>\n",
       "    </tr>\n",
       "  </tbody>\n",
       "</table>\n",
       "<p>20212 rows × 9 columns</p>\n",
       "</div>"
      ],
      "text/plain": [
       "            topic  paper_ID  sentence_ID  info-unit  \\\n",
       "0     translation         0          108  baselines   \n",
       "1     translation         0          108  baselines   \n",
       "2     translation         0           31      model   \n",
       "3     translation         0           31      model   \n",
       "4     translation         0           31      model   \n",
       "...           ...       ...          ...        ...   \n",
       "5162  translation        77           85    results   \n",
       "5163  translation        77          118    results   \n",
       "5164  translation        77          118    results   \n",
       "5165  translation        77          118    results   \n",
       "5166  translation        77          118    results   \n",
       "\n",
       "                                  sub                       pred  \\\n",
       "0                         pos n-grams                        use   \n",
       "1                           baselines                        has   \n",
       "2                       summarization                   generate   \n",
       "3                       summarization                        use   \n",
       "4     multiple compression candidates                        for   \n",
       "...                               ...                        ...   \n",
       "5162                          results                  adjusting   \n",
       "5163                           42.5 %                         of   \n",
       "5164                     output pairs                         by   \n",
       "5165                    distinguished  significantly higher than   \n",
       "5166                        baselines                        has   \n",
       "\n",
       "                                  obj  \\\n",
       "0                part- of-speech tags   \n",
       "1                         pos n-grams   \n",
       "2     multiple compression candidates   \n",
       "3                       ilp framework   \n",
       "4                       each sentence   \n",
       "...                               ...   \n",
       "5162                   decoder states   \n",
       "5163                     output pairs   \n",
       "5164   decoder state adjustment model   \n",
       "5165                        baselines   \n",
       "5166              24.5 % and 11.6 % )   \n",
       "\n",
       "                                               triplets  pred_weights  \n",
       "0                  pos n-grams use part- of-speech tags      0.590652  \n",
       "1                             baselines has pos n-grams      0.550340  \n",
       "2     summarization generate multiple compression ca...      0.662742  \n",
       "3                       summarization use ilp framework      0.570302  \n",
       "4     multiple compression candidates for each sentence      0.630202  \n",
       "...                                                 ...           ...  \n",
       "5162                   results adjusting decoder states      0.651876  \n",
       "5163                             42.5 % of output pairs      0.571571  \n",
       "5164     output pairs by decoder state adjustment model      0.551500  \n",
       "5165  distinguished significantly higher than baselines      0.644348  \n",
       "5166                  baselines has 24.5 % and 11.6 % )      0.534384  \n",
       "\n",
       "[20212 rows x 9 columns]"
      ]
     },
     "execution_count": 8,
     "metadata": {},
     "output_type": "execute_result"
    }
   ],
   "source": [
    "df"
   ]
  },
  {
   "cell_type": "code",
   "execution_count": 9,
   "metadata": {},
   "outputs": [
    {
     "data": {
      "text/plain": [
       "18440"
      ]
     },
     "execution_count": 9,
     "metadata": {},
     "output_type": "execute_result"
    }
   ],
   "source": [
    "len(df['triplets'].unique())"
   ]
  },
  {
   "cell_type": "code",
   "execution_count": 10,
   "metadata": {},
   "outputs": [
    {
     "data": {
      "text/plain": [
       "8091"
      ]
     },
     "execution_count": 10,
     "metadata": {},
     "output_type": "execute_result"
    }
   ],
   "source": [
    "len(df['sub'].unique())"
   ]
  },
  {
   "cell_type": "code",
   "execution_count": 11,
   "metadata": {},
   "outputs": [
    {
     "data": {
      "text/plain": [
       "2562"
      ]
     },
     "execution_count": 11,
     "metadata": {},
     "output_type": "execute_result"
    }
   ],
   "source": [
    "len(df['pred'].unique())"
   ]
  },
  {
   "cell_type": "code",
   "execution_count": 12,
   "metadata": {},
   "outputs": [
    {
     "data": {
      "text/plain": [
       "11401"
      ]
     },
     "execution_count": 12,
     "metadata": {},
     "output_type": "execute_result"
    }
   ],
   "source": [
    "len(df['obj'].unique())"
   ]
  }
 ],
 "metadata": {
  "kernelspec": {
   "display_name": "Python 3",
   "language": "python",
   "name": "python3"
  },
  "language_info": {
   "codemirror_mode": {
    "name": "ipython",
    "version": 3
   },
   "file_extension": ".py",
   "mimetype": "text/x-python",
   "name": "python",
   "nbconvert_exporter": "python",
   "pygments_lexer": "ipython3",
   "version": "3.8.5"
  }
 },
 "nbformat": 4,
 "nbformat_minor": 4
}
